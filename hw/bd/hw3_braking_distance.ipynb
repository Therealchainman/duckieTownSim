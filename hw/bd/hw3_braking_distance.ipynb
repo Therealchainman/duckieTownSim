{
 "cells": [
  {
   "cell_type": "code",
   "execution_count": 1,
   "metadata": {},
   "outputs": [],
   "source": [
    "import sys\n",
    "sys.path.append('../../')\n",
    "\n",
    "from car_iface import controller_model\n",
    "from utils import nn\n",
    "import numpy as np\n",
    "import matplotlib.pyplot as plt"
   ]
  },
  {
   "cell_type": "code",
   "execution_count": 2,
   "metadata": {},
   "outputs": [
    {
     "name": "stdout",
     "output_type": "stream",
     "text": [
      "Using Analytical Equation\n"
     ]
    }
   ],
   "source": [
    "'''\n",
    "Set the MODE here to either use a Neural Model (FCN)\n",
    "or the analytical equation.  Note the analytical equation\n",
    "can only be used for simple motion dynamics.\n",
    "'''\n",
    "MODE = 1\n",
    "MODE_DICT = {0: \"Neural Model\", 1: \"Analytical Equation\"}\n",
    "print(f\"Using {MODE_DICT[MODE]}\")"
   ]
  },
  {
   "cell_type": "code",
   "execution_count": 3,
   "metadata": {},
   "outputs": [],
   "source": [
    "'''\n",
    "CAR_MODEL you set to either \"simple\" or \"complex\".\n",
    "This dictates the internal model dynamics you will be using.\n",
    "'''\n",
    "CAR_MODEL = \"simple\"\n",
    "ci = controller_model.Car_Interface(model = CAR_MODEL)\n",
    "\n",
    "ci.set_gear(ci.FORWARD)\n",
    "\n",
    "if (MODE_DICT[MODE] == \"Simple Equation\" and CAR_MODEL == \"complex\"):\n",
    "    raise Exception(\"Invalid combination.\")"
   ]
  },
  {
   "cell_type": "markdown",
   "metadata": {},
   "source": [
    "## Stopping Distance Generation"
   ]
  },
  {
   "cell_type": "markdown",
   "metadata": {},
   "source": [
    "Here we take advantage of the controller model we\n",
    "developed using System ID.  Now instead of spending\n",
    "excessive amounts of time manually controlling the car\n",
    "we can easily generate data to work with.\n",
    "\n",
    "For a basic implementation of this function follow the\n",
    "below steps.  A model trained with this data will not\n",
    "work in all cases, but it will generally.  If you would\n",
    "like to learn why and come up with a more robust data\n",
    "generation scheme see the braking_distance_extra ipynb\n",
    "when it is released next lecture.\n",
    "\n",
    "IMPORTANT NOTE: For this to work with the \"complex\"\n",
    "car model you will have to first fill out one small\n",
    "section around line 138 in controller_model.py. This\n",
    "will allow your controller model to work with the non-linear \n",
    "SystemID shared during lecture."
   ]
  },
  {
   "cell_type": "code",
   "execution_count": 4,
   "metadata": {},
   "outputs": [
    {
     "name": "stdout",
     "output_type": "stream",
     "text": [
      "current position at velocity 0.8226191797800023 and acceleration -0.2291425981645261 is 0.055350484425699106\n",
      "current position at velocity 0.8074573343481382 and acceleration -0.2274276814779616 is 0.10968636822997047\n",
      "current position at velocity 0.7924089610595529 and acceleration -0.22572559932877867 is 0.16301524474356016\n",
      "current position at velocity 0.77747321068205 and acceleration -0.22403625566254448 is 0.21534465046828027\n",
      "current position at velocity 0.7626492403391365 and acceleration -0.2223595551437031 is 0.2666820655023198\n",
      "current position at velocity 0.7479362134624568 and acceleration -0.2206954031501956 is 0.31703491396237293\n",
      "current position at velocity 0.7333332997445821 and acceleration -0.21904370576812 is 0.36641056440260755\n",
      "current position at velocity 0.7188396750921533 and acceleration -0.21740436978643163 is 0.41481633023049874\n",
      "current position at velocity 0.7044545215793745 and acceleration -0.21577730269168266 is 0.46225947011954965\n",
      "current position at velocity 0.6901770274018544 and acceleration -0.2141624126628014 is 0.508747188418924\n",
      "current position at velocity 0.6760063868307937 and acceleration -0.21255960856591039 is 0.5542866355600122\n",
      "current position at velocity 0.6619418001675148 and acceleration -0.2109687999491836 is 0.5988849084599559\n",
      "current position at velocity 0.6479824736983321 and acceleration -0.20938989703774163 is 0.6425490509221508\n",
      "current position at velocity 0.6341276196497597 and acceleration -0.20782281072858577 is 0.6852860540337538\n",
      "current position at velocity 0.6203764561440551 and acceleration -0.2062674525855691 is 0.7271028565602142\n",
      "current position at velocity 0.6067282071550947 and acceleration -0.2047237348344063 is 0.7680063453368525\n",
      "current position at velocity 0.59318210246458 and acceleration -0.2031915703577199 is 0.8080033556575084\n",
      "current position at velocity 0.5797373776185718 and acceleration -0.20167087269012385 is 0.8471006716602801\n",
      "current position at velocity 0.5663932738843489 and acceleration -0.2001615560133443 is 0.8853050267103775\n",
      "current position at velocity 0.5531490382075904 and acceleration -0.19866353515137636 is 0.9226231037801088\n",
      "current position at velocity 0.5400039231698786 and acceleration -0.1971767255656774 is 0.9590615358260245\n",
      "current position at velocity 0.5269571869465188 and acceleration -0.19570104335039612 is 0.9946269061632378\n",
      "current position at velocity 0.5140080932646763 and acceleration -0.19423640522763774 is 1.0293257488369443\n",
      "current position at velocity 0.5011559113618254 and acceleration -0.19278272854276396 is 1.063164548991161\n",
      "current position at velocity 0.4883999159445101 and acceleration -0.1913399312597287 is 1.0961497432347056\n",
      "current position at velocity 0.47573938714741354 and acceleration -0.1899079319564485 is 1.1282877200044363\n",
      "current position at velocity 0.46317361049273303 and acceleration -0.18848664982020763 is 1.1595848199257746\n",
      "current position at velocity 0.4507018768498599 and acceleration -0.18707600464309732 is 1.1900473361705277\n",
      "current position at velocity 0.4383234823953606 and acceleration -0.18567591681748968 is 1.219681514812035\n",
      "current position at velocity 0.4260377285732576 and acceleration -0.18428630733154483 is 1.2484935551776557\n",
      "current position at velocity 0.41384392205560744 and acceleration -0.18290709776475228 is 1.2764896101986178\n",
      "current position at velocity 0.40174137470337373 and acceleration -0.1815382102835052 is 1.3036757867572506\n",
      "current position at velocity 0.3897294035275932 and acceleration -0.180179567636708 is 1.330058146031616\n",
      "current position at velocity 0.3778073306508321 and acceleration -0.17883109315141693 is 1.3556427038375636\n",
      "current position at velocity 0.3659744832689312 and acceleration -0.17749271072851303 is 1.3804354309682223\n",
      "current position at velocity 0.35423019361303737 and acceleration -0.17616434483840765 is 1.4044422535309546\n",
      "current position at velocity 0.3425737989119187 and acceleration -0.17484592051677988 is 1.4276690532817866\n",
      "current position at velocity 0.33100464135456226 and acceleration -0.17353736336034636 is 1.4501216679573359\n",
      "current position at velocity 0.31952206805305144 and acceleration -0.1722385995226623 is 1.4718058916042562\n",
      "current position at velocity 0.3081254310057212 and acceleration -0.1709495557099539 is 1.4927274749062154\n",
      "current position at velocity 0.29681408706058904 and acceleration -0.16967015917698236 is 1.5128921255084258\n",
      "current position at velocity 0.2855873978790598 and acceleration -0.16840033772293855 is 1.5323055083397474\n",
      "current position at velocity 0.2744447298999019 and acceleration -0.16714001968736836 is 1.5509732459323795\n",
      "current position at velocity 0.2633854543034933 and acceleration -0.1658891339461288 is 1.5689009187391594\n",
      "current position at velocity 0.25240894697633504 and acceleration -0.1646476099073742 is 1.586094065448487\n",
      "current position at velocity 0.2415145884758302 and acceleration -0.16341537750757235 is 1.6025581832968925\n",
      "current position at velocity 0.23070176399532685 and acceleration -0.16219236720755054 is 1.6182987283792645\n",
      "current position at velocity 0.2199698633294221 and acceleration -0.1609785099885715 is 1.633321115956756\n",
      "current position at velocity 0.20931828083952622 and acceleration -0.1597737373484382 is 1.6476307207623877\n",
      "current position at velocity 0.19874641541968435 and acceleration -0.15857798129762796 is 1.6612328773043614\n",
      "current position at velocity 0.18825367046265395 and acceleration -0.15739117435545585 is 1.674132880167106\n",
      "current position at velocity 0.1778394538262362 and acceleration -0.15621324954626625 is 1.6863359843100691\n",
      "current position at velocity 0.1675031777998593 and acceleration -0.1550441403956534 is 1.6978474053642723\n",
      "current position at velocity 0.15724425907141198 and acceleration -0.1538837809267098 is 1.708672319926648\n",
      "current position at velocity 0.14706211869432512 and acceleration -0.15273210565630296 is 1.7188158658521726\n",
      "current position at velocity 0.13695618205489976 and acceleration -0.1515890495913802 is 1.7282831425438134\n",
      "current position at velocity 0.1269258788398797 and acceleration -0.15045454822530052 is 1.7370792112403062\n",
      "current position at velocity 0.11697064300426675 and acceleration -0.1493285375341944 is 1.7452090953017778\n",
      "current position at velocity 0.1070899127393767 and acceleration -0.14821095397335082 is 1.7526777804932325\n",
      "current position at velocity 0.09728313044113462 and acceleration -0.14710173447363106 is 1.7594902152659162\n",
      "current position at velocity 0.08754974267860732 and acceleration -0.14600081643790958 is 1.7656513110365744\n",
      "current position at velocity 0.07788920016277123 and acceleration -0.14490813773754135 is 1.7711659424646202\n",
      "current position at velocity 0.06830095771551417 and acceleration -0.1438236367088559 is 1.7760389477272298\n",
      "current position at velocity 0.05878447423886903 and acceleration -0.1427472521496771 is 1.780275128792376\n",
      "current position at velocity 0.04933921268447772 and acceleration -0.14167892331586968 is 1.7838792516898208\n",
      "current position at velocity 0.03996464002328365 and acceleration -0.14061858991791099 is 1.7868560467800794\n",
      "current position at velocity 0.030660227215451065 and acceleration -0.13956619211748872 is 1.7892102090213706\n",
      "current position at velocity 0.021425449180509468 and acceleration -0.13852167052412395 is 1.7909463982345692\n",
      "current position at velocity 0.012259784767721483 and acceleration -0.13748496619181977 is 1.792069239366177\n",
      "current position at velocity 0.0031627167266725254 and acceleration -0.13645602061573436 is 1.7925833227493235\n",
      "current position at velocity -0.005866268321919454 and acceleration -0.13543477572887969 is 1.7924932043628152\n"
     ]
    },
    {
     "data": {
      "text/plain": [
       "(0.6001646476592055, [0.8378953529909707, 1.7924932043628152])"
      ]
     },
     "execution_count": 4,
     "metadata": {},
     "output_type": "execute_result"
    }
   ],
   "source": [
    "'''\n",
    "Basic Instructions:\n",
    "1a.Select an initial velocity uniformly at random between 0 and 1. (see: np.random.random())\n",
    " b.Directly set the controller's velocity to this initial velocity.\n",
    " c.Zero the position of the controller.\n",
    "2.Select a brake pedal amount, amt, uniformly at random between 0 and 1.\n",
    "3a.Initialize a counter variable, t, to 0.\n",
    " b.While the controller's velocity is positive repeat the following steps.\n",
    " c.Apply the brakes at depression % amt for one time step.\n",
    " d.Increment t by the controller's dt time step.\n",
    " e.If t exceeds a time limit of 5 seconds, break out of this inner loop.\n",
    "4.If the controller's velocity is 0 proceed, otherwise repeat steps 1 to 4.\n",
    "5.The stopping distance is the position of the car, get this from the controller model.\n",
    "6.Initialize inp as a list of length two, where the first element is the\n",
    "  initial velocity, and the second element is the stopping distance.\n",
    "7.Return amt, inp\n",
    "\n",
    "What we are doing here is repeatedly trying random configurations of intial speed\n",
    "and brake amount.  If we stop within the time limit then we have a valid data point.\n",
    "The current position represents our stopping distance.\n",
    "\n",
    "We take advantage of having a controller model in 3 ways.\n",
    "1. Can run the simulations a lot faster.\n",
    "2. Can directly set velocity (used in step 1b)\n",
    "3. Don't have noise with measurements (helps a lot when velocity gets close to 0)\n",
    "\n",
    "NOTE: this specific method of data generation produces a couple biases.  Consider\n",
    "the following scenario.  The car is fairly far from the target brake point.  Further,\n",
    "it is not moving very fast.  Here you attempt to precision brake, but you might find\n",
    "the car stops too early Why might this type of data point not be captured by this\n",
    "generation method?  If you see how to fix this feel free to do so.  If not next\n",
    "lecture a supplementary notebook will be released detailing the few steps needed\n",
    "to do so.\n",
    "'''\n",
    "def stopping_distance_gen():\n",
    "    v0 = np.random.random()\n",
    "    ci.velocity = v0\n",
    "    \n",
    "    while ci.velocity != 0:\n",
    "        v0 = np.random.random()\n",
    "        ci.velocity = v0\n",
    "        ci.zero_position()\n",
    "        # Selecting brake amount at random.\n",
    "        amt = np.random.random()\n",
    "        t = 0\n",
    "        # As long as velocity is greater than zero we are applying the brake.\n",
    "        # and there is a 5 second time limit. \n",
    "        while ci.velocity > 0:\n",
    "            ci.apply_control(1, amt)\n",
    "            t += ci.dt\n",
    "            if t > 5:\n",
    "                break\n",
    "    stopping_distance = ci.position\n",
    "    inp = [v0, stopping_distance]\n",
    "    return amt, inp"
   ]
  },
  {
   "cell_type": "code",
   "execution_count": null,
   "metadata": {},
   "outputs": [],
   "source": [
    "'''\n",
    "Displays a sample data point.  If this provides a reasonable \n",
    "output you probably did the previous part correctly.  \n",
    "'''\n",
    "amt, (initial_velocity, stopping_distance) = stopping_distance_gen()\n",
    "print(f\"A car moving at {initial_velocity * 100:.2f}% speed, applied {amt * 100:.2f}% brakes and stopped, after travelling {stopping_distance:.2f} distance units\")"
   ]
  },
  {
   "cell_type": "markdown",
   "metadata": {},
   "source": [
    "## Analytical Solution for 'Simple' Car Model"
   ]
  },
  {
   "cell_type": "markdown",
   "metadata": {},
   "source": [
    "IMPORTANT NOTE: When you have completed implementations of these two functions, paste their definitions into the corresponding locations (under the matching function headers) in braking_distance/bd_api.py.  This is what the simulator will actually interact with."
   ]
  },
  {
   "cell_type": "code",
   "execution_count": null,
   "metadata": {},
   "outputs": [],
   "source": [
    "'''\n",
    "Write the analytical solution for the theoretical stopping distance.\n",
    "The equation is presented in the lecture slides (Slides 9-13)\n",
    "\n",
    "Some helpful reminders:\n",
    "    The linear model assumes: accel = c_1 * p_accel + c_2 * p_brake + c_3 * vel + c_4\n",
    "    c_1 = ci.accelerator_weight\n",
    "    c_2 = ci.brake_weight\n",
    "    c_3 = -ci.friction_constant\n",
    "    c_4 = ci.rolling_bias\n",
    "    (Where ci is the car interface you initialized above)\n",
    "\n",
    "Implemenation Instructions:\n",
    "1. Initialize x, f, and v0 from available information\n",
    "2. Check if the expression in Slide 13 would evaluate infinity, if so return float('inf')\n",
    "3. Otherwise return the stopping distance as calculated in Slide 13.\n",
    "\n",
    "NOTE: the stopping distance will be infinite when the brake amount is not enough to \n",
    "overcome the rolling bias.\n",
    "\n",
    "The only discrepancy between this and the actual stopping distance\n",
    "arises from the discretized nature of the simulation.  This is\n",
    "a precise calculation otherwise.\n",
    "\n",
    "IMPORTANT: After implementing this sucessfully paste the function body in \n",
    "the corresponding and marked location in braking_distance/bd_api.py (line 80)\n",
    "'''\n",
    "def simple_analytical_sd(initial_velocity, amt):\n",
    "    x = ci.brake_weight*amt + ci.rolling_bias\n",
    "    f = -ci.rolling_bias\n",
    "    v0 = initial_velocity\n",
    "    sd = 1/f*(v0 + (x/f)*np.log(1 - (f*v0)/x))\n",
    "    accel = x + f*v0\n",
    "    if accel >= 0:\n",
    "        return float('inf')\n",
    "    return sd\n",
    "    \n",
    "'''\n",
    "Function takes as input the initial velocity and desired stopping distance.\n",
    "Then using binary search returns an estimate within the specified tolerance\n",
    "of the actual required brake amount.\n",
    "\n",
    "Parameters:\n",
    "inp: (initial velocity, desired stopping distance)\n",
    "tol: estimate tolerance \n",
    "min_amt: minumum possible value of the required brake amount (initially 0)\n",
    "max_amt: maximum possible value of the required brake amount (initially 1)\n",
    "\n",
    "\n",
    "Implemenation Instructions\n",
    "1.Initialize mid_amt as the midway point between min_amt and max_amt.\n",
    "2.If the length of the min max interval is less than twice the tolerance,\n",
    "  then mid_amt is a valid estimate (+/- the the tolerance of the actual)\n",
    "3a.Calculate the analytical stopping distance with the given initial velocity,\n",
    "   and current estimate (mid_amt).\n",
    " b.Update min_amt and max_amt accordingly to narrow the search space and recurse.\n",
    "   (NOTE: careful, if the stopping distance is too high is the mid_amt too high or low?)\n",
    "   \n",
    "IMPORTANT: After implementing this sucessefully paste the function body in the \n",
    "corresponding and marked location in braking_distance/bd_api.py (roughly line 90)\n",
    "'''\n",
    "def simple_analytical_approx(inp, tol = 1e-5, min_amt = 0, max_amt = 1):\n",
    "    mid_amt = min_amt + (max_amt - min_amt)/2\n",
    "    initial_velocity = inp[0]\n",
    "    actual_sd = inp[1]\n",
    "    estimate_sd = simple_analytical_sd(initial_velocity, mid_amt)\n",
    "    print(f\"The actual and estimate stopping distance {actual_sd} and {estimate_sd}\")\n",
    "    if max_amt - min_amt < 2*tol:\n",
    "        return mid_amt\n",
    "    if abs(estimate_sd - actual_sd) < 2*tol:\n",
    "        print(f\"if the stimate distance close to actual distance {mid_amt}\")\n",
    "        return mid_amt\n",
    "    elif estimate_sd > actual_sd:\n",
    "        min_amt = mid_amt\n",
    "    elif estimate_sd < actual_sd:\n",
    "        max_amt = mid_amt\n",
    "    print(f\"the brake amount that is the (min_amt, mid_amt, max_amt) guess ({min_amt}, {mid_amt}, {max_amt})\")\n",
    "    return simple_analytical_approx(inp, tol, min_amt, max_amt)\n",
    "        "
   ]
  },
  {
   "cell_type": "code",
   "execution_count": null,
   "metadata": {},
   "outputs": [],
   "source": [
    "'''\n",
    "Demonstrate the performance of the Analytical Equation Estimate\n",
    "with a few examples.  (The estimate is the \"Closed Form Brake Amount\").\n",
    "The simulated result and the closed form brake amount should be very close.\n",
    "The discrepancy is largest in extreme value cases where the discretization\n",
    "has a significant effect.\n",
    "'''\n",
    "if (MODE == 1):\n",
    "    for i in range(3):\n",
    "            amt, (initial_velocity, stopping_distance) = stopping_distance_gen()\n",
    "            pred = simple_analytical_approx((initial_velocity, stopping_distance))\n",
    "            print(f\"Car moving at {initial_velocity * 100:.2f}%; Target Stopping Distance {stopping_distance:.2f} distance units\")\n",
    "            print(f\"Simulation Brake Amount: {amt*100:.2f}%; Closed Form Brake Amount {pred*100:.2f}%\")\n",
    "            print()"
   ]
  },
  {
   "cell_type": "markdown",
   "metadata": {},
   "source": [
    "## FCN Training and Evaluation"
   ]
  },
  {
   "cell_type": "code",
   "execution_count": null,
   "metadata": {},
   "outputs": [],
   "source": [
    "'''\n",
    "Initialize FCN.\n",
    "\n",
    "You will need to supply additional parameters to the\n",
    "initializer function. See utils/nn.py for documentation.\n",
    "See demos/week3/Nonlinear_SystemID for example usage.\n",
    "\n",
    "Hint 1: There are two additional parameters you need to specify\n",
    "Hint 2:  What are the inputs for this FCN?  What is the ouput?\n",
    "What are the reasonable possible outputs?\n",
    "\n",
    "NOTE: If this is your first time running this block it will \n",
    "randomly initialize a set of weights.  Afterwards by default,\n",
    "this will load weights you trained earlier.  If you would like\n",
    "to force the model to reinitialize weights, provide a third\n",
    "additional argument retrain = True. (see utils/nn.py for more)\n",
    "'''\n",
    "if (MODE == 0):\n",
    "    model = nn.fcn(model_name = \"../../braking_distance/\" + CAR_MODEL + \"_bd\", #CODE HERE)"
   ]
  },
  {
   "cell_type": "code",
   "execution_count": null,
   "metadata": {},
   "outputs": [],
   "source": [
    "'''\n",
    "Generate 1000 inputs and targets and train for 200 epochs on this\n",
    "generated data.  (Note you can run this blck a few times to train\n",
    "further).\n",
    "\n",
    "Implementation Instructions:\n",
    "1.Initialize two empty lists, inputs and targets.\n",
    "2a.Get a brake amount and and two dimensional input by calling\n",
    "   stopping_distance_gen()\n",
    " b.Append the input to the inputs list, and the brake amount to\n",
    "   the targets list.\n",
    " c.Repeat 2a and 2b 1000 times.\n",
    "3.Use the model.train method to train with this data for 200 epochs.\n",
    "  (See nn.py for function information)\n",
    "'''\n",
    "if (MODE == 0):\n",
    "    \n",
    "    #CODE HERE\n"
   ]
  },
  {
   "cell_type": "code",
   "execution_count": null,
   "metadata": {},
   "outputs": [],
   "source": [
    "'''\n",
    "Demonstrate the performance of the FCN brake amount estimator\n",
    "with a few examples.\n",
    "'''\n",
    "if (MODE == 0):\n",
    "    for i in range(3):\n",
    "        '''\n",
    "        Generate an example scenario complete with an initial velocity,\n",
    "        target stopping distance, and necessary brake amount.\n",
    "        \n",
    "        Then run your model on the appropriate input and record it's\n",
    "        predicted brake amount.\n",
    "        \n",
    "        Finally fill in the variable names you used in the blanks to output\n",
    "        the input, target, and output.\n",
    "        \n",
    "        Ideally the model ouput should be fairly close to the brake amount.\n",
    "        '''\n",
    "\n",
    "        #CODE HERE\n",
    "\n",
    "        print(f\"INIT VEL: {______:.3f} TARG SD: {______:.3f} BRK AMT: {_____:.3f} MODEL OUT:{_____:.3f} \")"
   ]
  },
  {
   "cell_type": "code",
   "execution_count": null,
   "metadata": {},
   "outputs": [],
   "source": [
    "'''\n",
    "Empirically evaluate the model for it's performance.\n",
    "Present two stats in the end:\n",
    "1) The proportion of the time that the estimate is\n",
    "   within a certain tolerance (here 0.1)\n",
    "2) The median estimation error.\n",
    "'''\n",
    "TEST = 300\n",
    "correct = 0\n",
    "tol = 0.1\n",
    "errors = []\n",
    "for i in range(TEST):\n",
    "    print(f\"TESTING {i + 1}/{TEST}\", end = \"\\r\")\n",
    "    amt, inp = stopping_distance_gen()\n",
    "\n",
    "    if (MODE == 0):\n",
    "        out = model.predict(inp)\n",
    "    elif (MODE == 1):\n",
    "        out = simple_analytical_approx(inp, tol = 1e-5)\n",
    "\n",
    "    if (abs(out - amt) < tol):\n",
    "        correct += 1\n",
    "    errors.append(out - amt)\n",
    "print(f\"WITHIN {tol} {correct}/{TEST} times\")\n",
    "print(f\"MEDIAN ERROR {np.median(np.abs(errors)):.4f}\")\n",
    "\n",
    "plt.title(\"Error Distribution\")\n",
    "plt.hist(errors, bins = 200, range = (-1, 1))\n",
    "plt.show()"
   ]
  },
  {
   "cell_type": "markdown",
   "metadata": {},
   "source": [
    "## Model Usage"
   ]
  },
  {
   "cell_type": "markdown",
   "metadata": {},
   "source": [
    "Now you're ready to test out your algorithm!  Run the simulator in braking distance mode (command below) to begin.  Drive around to make sure you remember the controls.\n",
    "\n",
    "python simulator.py --mode braking_distance\n",
    "\n",
    "To run with complex internal model run:\n",
    "\n",
    "python simulator.py --mode braking_distance --car_model complex"
   ]
  },
  {
   "cell_type": "markdown",
   "metadata": {},
   "source": [
    "## Target Brake Point Marking"
   ]
  },
  {
   "cell_type": "markdown",
   "metadata": {},
   "source": [
    "Now drive up to one of the red stop lines in the simulator, braking nicely in front of the line.  Click 'm' this will record the position and direction in which you stopped in as a keypoint target.  Repeat this process at a few other stop lines.  (You could do other locations as well, but this is the most practical). \n",
    "\n",
    "If you accidentally add erroneous keypoints you can delete them individually by running keypoints.py. (Or delete all of them by trashing the keypoint_locations.json).  Note, either of these files are in the braking_distance folder."
   ]
  },
  {
   "cell_type": "markdown",
   "metadata": {},
   "source": [
    "## Precision Braking"
   ]
  },
  {
   "cell_type": "markdown",
   "metadata": {},
   "source": [
    "To apply precision braking approach a brake point while driving.  If a target brake point is in your heading, you should notice the option to hold 'b' appear in the terminal window.  This indicates that you may begin precision braking.  Hold 'b' to precision brake.  Release one you have stopped moving.  \n",
    "\n",
    "A graph will come up detailing how much you depressed the brake pedal as you approached the target brake point.  The reason we brake a varying amount over time is because we are replanning every timestep.  This prevents error from building up in our model, and naturally adjusts the car's behavior as appropriate."
   ]
  },
  {
   "cell_type": "markdown",
   "metadata": {},
   "source": [
    "## Evaluation"
   ]
  },
  {
   "cell_type": "markdown",
   "metadata": {},
   "source": [
    "You will be evaluated on whether or not you successfully brake, somewhat smoothly, roughly at your target brake point.  You shouldn't overshoot the brake point or stop too early either.  This should work for both simple and complex models."
   ]
  },
  {
   "cell_type": "code",
   "execution_count": null,
   "metadata": {},
   "outputs": [],
   "source": []
  }
 ],
 "metadata": {
  "kernelspec": {
   "display_name": "Python [conda env:sdc_decal] *",
   "language": "python",
   "name": "conda-env-sdc_decal-py"
  },
  "language_info": {
   "codemirror_mode": {
    "name": "ipython",
    "version": 3
   },
   "file_extension": ".py",
   "mimetype": "text/x-python",
   "name": "python",
   "nbconvert_exporter": "python",
   "pygments_lexer": "ipython3",
   "version": "3.6.10"
  }
 },
 "nbformat": 4,
 "nbformat_minor": 2
}
